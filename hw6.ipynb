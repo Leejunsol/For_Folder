{
 "cells": [
  {
   "cell_type": "code",
   "execution_count": 50,
   "id": "4dd7e13e",
   "metadata": {},
   "outputs": [],
   "source": [
    "import numpy as np  \n",
    "import matplotlib.pyplot as plt  \n",
    "from mpl_toolkits.axes_grid1 import make_axes_locatable"
   ]
  },
  {
   "cell_type": "code",
   "execution_count": 51,
   "id": "85868f83",
   "metadata": {},
   "outputs": [
    {
     "data": {
      "text/plain": [
       "<contextlib.ExitStack at 0x19dda054f90>"
      ]
     },
     "execution_count": 51,
     "metadata": {},
     "output_type": "execute_result"
    }
   ],
   "source": [
    "%matplotlib qt5\n",
    "%config InlineBackend.figure_format = 'svg'\n",
    "\n",
    "plt.rcParams['figure.figsize'] = [12, 5]\n",
    "plt.rcParams['font.size'] = 13\n",
    "plt.ion()"
   ]
  },
  {
   "cell_type": "code",
   "execution_count": 52,
   "id": "a8510566",
   "metadata": {},
   "outputs": [],
   "source": [
    "# [+] 함수 구현\n",
    "def f(z):\n",
    "    return np.square(z)-1"
   ]
  },
  {
   "cell_type": "code",
   "execution_count": 53,
   "id": "8e229337",
   "metadata": {},
   "outputs": [
    {
     "data": {
      "text/plain": [
       "-1"
      ]
     },
     "execution_count": 53,
     "metadata": {},
     "output_type": "execute_result"
    }
   ],
   "source": [
    "#함수 테스트\n",
    "f(0)"
   ]
  },
  {
   "cell_type": "code",
   "execution_count": 54,
   "id": "c1976b34",
   "metadata": {},
   "outputs": [
    {
     "data": {
      "text/plain": [
       "array([15.  +0.j , -0.04-0.4j,  1.56+0.j ])"
      ]
     },
     "execution_count": 54,
     "metadata": {},
     "output_type": "execute_result"
    }
   ],
   "source": [
    "z = [4, 1-0.2j, 1.6]\n",
    "f(z)"
   ]
  },
  {
   "cell_type": "code",
   "execution_count": 55,
   "id": "3aa58c5f",
   "metadata": {},
   "outputs": [],
   "source": [
    "# [+] np.linspace()를 이용하여 x축, y축 값 집합을 생성\n",
    "x, y = np.meshgrid(np.linspace(-2, 2, 400), np.linspace(-2, 2, 400))"
   ]
  },
  {
   "cell_type": "code",
   "execution_count": 58,
   "id": "9cd2c917",
   "metadata": {},
   "outputs": [],
   "source": [
    "# [+] 복소수 집합(mesh)으로 변환하기\n",
    "mesh = x + (1j * y)"
   ]
  },
  {
   "cell_type": "code",
   "execution_count": 61,
   "id": "662230fb",
   "metadata": {},
   "outputs": [],
   "source": [
    "# [+] 함수 계산 결과의 절대값 구하기\n",
    "output = np.abs(f(mesh))"
   ]
  },
  {
   "cell_type": "code",
   "execution_count": 62,
   "id": "8feba83e",
   "metadata": {},
   "outputs": [],
   "source": [
    "fig = plt.figure()\n",
    "ax = plt.axes(projection='3d')\n",
    "\n",
    "ax.scatter(x, y, output, alpha=0.2)\n",
    "\n",
    "ax.set_xlabel('Real axis')      # 실수부\n",
    "ax.set_ylabel('Imaginary axis') # 허수부\n",
    "ax.set_zlabel('Absolute value') # 함수값의 절대값\n",
    "ax.set_title('One Iteration: $f(z) = z^2 - 1$');"
   ]
  },
  {
   "cell_type": "code",
   "execution_count": 63,
   "id": "ec5817af",
   "metadata": {},
   "outputs": [],
   "source": [
    "output = np.abs(f(f(mesh)))\n",
    "\n",
    "ax = plt.axes(projection='3d')\n",
    "\n",
    "ax.scatter(x, y, output, alpha=0.2)\n",
    "\n",
    "ax.set_xlabel('Real axis')\n",
    "ax.set_ylabel('Imaginary axis')\n",
    "ax.set_zlabel('Absolute value')\n",
    "ax.set_title('Two Iterations: $ f(z) = z^2 - 1$');"
   ]
  },
  {
   "cell_type": "code",
   "execution_count": 39,
   "id": "baeed148",
   "metadata": {},
   "outputs": [],
   "source": [
    "selected_values = np.array([0.4 + 0.4j, 0.41 + 0.4j, 0.4 + 0.41j])\n",
    "num_iter = 9\n",
    "\n",
    "outputs = np.zeros(\n",
    "    (num_iter+1, selected_values.shape[0]),  # 10X3 Zero 배열 생성\n",
    "    dtype=complex  # 데이터 타입: 복소수\n",
    ")\n",
    "outputs[0] = selected_values   # 함수 초기 조건\n",
    "\n",
    "for i in range(num_iter):\n",
    "    outputs[i+1] = f(outputs[i])  # 10번 함수 반복하는 동안 각 결과를 저장\n",
    "\n",
    "fig, axes = plt.subplots(1, selected_values.shape[0], figsize=(16, 6))\n",
    "axes[1].set_xlabel('Real axis')\n",
    "axes[0].set_ylabel('Imaginary axis')\n",
    "\n",
    "for ax, data in zip(axes, outputs.T):\n",
    "    cycle = ax.scatter(\n",
    "        data.real,  # 실수부\n",
    "        data.imag,  # 허수부\n",
    "        c=range(data.shape[0]), \n",
    "        alpha=0.6\n",
    "    )\n",
    "    ax.set_title(f'Mapping of iterations on {data[0]}')\n",
    "\n",
    "fig.colorbar(cycle, ax=axes, location='bottom', label='Iteration');"
   ]
  },
  {
   "cell_type": "code",
   "execution_count": 64,
   "id": "964c9180",
   "metadata": {},
   "outputs": [],
   "source": [
    "def divergence_rate(mesh, num_iter=10, radius=2):\n",
    "    z = mesh.copy()\n",
    "    # 값 별 반복 횟수를 저장\n",
    "    diverge_len = np.zeros(mesh.shape)\n",
    "    # 발산되지 않은 값들에 대해 함수를 반복 적용\n",
    "    for i in range(num_iter):\n",
    "        # [+] 1. Boolean 배열  마스크 생성\n",
    "        conv_mask = np.abs(z) < radius\n",
    "        # [+] 2. 해당 값들에 대한 diverge_len 값 증가\n",
    "        diverge_len[conv_mask] += 1\n",
    "        # [+] 3. 해당 값들에 대해 함수 적용\n",
    "        z[conv_mask] = f(z[conv_mask])\n",
    "\n",
    "    return diverge_len"
   ]
  },
  {
   "cell_type": "code",
   "execution_count": 65,
   "id": "bc9087b3",
   "metadata": {},
   "outputs": [],
   "source": [
    "x, y = np.meshgrid(np.linspace(-2, 2, 400), np.linspace(-2, 2, 400))\n",
    "mesh = x + (1j * y)\n",
    "\n",
    "output = divergence_rate(mesh)\n",
    "\n",
    "fig = plt.figure(figsize=(5, 5))\n",
    "ax = plt.axes()\n",
    "\n",
    "ax.set_title('$f(z) = z^2-1$')\n",
    "ax.set_xlabel('Real axis')\n",
    "ax.set_ylabel('Imaginary axis')\n",
    "\n",
    "im = ax.imshow(output, extent=[-2, 2, -2, 2])\n",
    "divider = make_axes_locatable(ax)\n",
    "cax = divider.append_axes('right', size='5%', pad=0.1)\n",
    "plt.colorbar(im, cax=cax, label='Number of iterations');"
   ]
  },
  {
   "cell_type": "code",
   "execution_count": null,
   "id": "d44ba3ac",
   "metadata": {},
   "outputs": [],
   "source": []
  }
 ],
 "metadata": {
  "kernelspec": {
   "display_name": "Python 3 (ipykernel)",
   "language": "python",
   "name": "python3"
  },
  "language_info": {
   "codemirror_mode": {
    "name": "ipython",
    "version": 3
   },
   "file_extension": ".py",
   "mimetype": "text/x-python",
   "name": "python",
   "nbconvert_exporter": "python",
   "pygments_lexer": "ipython3",
   "version": "3.11.4"
  }
 },
 "nbformat": 4,
 "nbformat_minor": 5
}
