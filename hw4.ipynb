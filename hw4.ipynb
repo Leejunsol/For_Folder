{
 "cells": [
  {
   "cell_type": "code",
   "execution_count": 7,
   "id": "d562d0e0",
   "metadata": {},
   "outputs": [
    {
     "name": "stdout",
     "output_type": "stream",
     "text": [
      "['쌍', '쇠', '복', '돌', '팽', '육', '쌍', '개', '칠', '갑', '삼', '방']\n"
     ]
    }
   ],
   "source": [
    "first_name_list = ['쌍', '쇠', '복', '돌', '팽', '육', '쌍', '개', '칠', '갑', '삼', '방']\n",
    "print(first_name_list)"
   ]
  },
  {
   "cell_type": "code",
   "execution_count": 8,
   "id": "94d8c8ba",
   "metadata": {},
   "outputs": [
    {
     "name": "stdout",
     "output_type": "stream",
     "text": [
      "['봉', '구', '욕', '포', '똥', '삼', '식', '석', '놈', '님', '년', '돌', '단', '득', '방', '질', '장', '걸', '래', '룡', '동', '순', '자', '박', '창', '언', '것', '포', '만', '단', '국']\n"
     ]
    }
   ],
   "source": [
    "second_name_list = ['봉', '구', '욕', '포', '똥', '삼', '식', '석', '놈', '님', '년', '돌', '단', '득', '방', '질', '장', '걸', '래', '룡', '동', '순', '자', '박', '창', '언', '것', '포', '만', '단', '국']\n",
    "print(second_name_list)"
   ]
  },
  {
   "cell_type": "code",
   "execution_count": 9,
   "id": "e85df0f4",
   "metadata": {},
   "outputs": [],
   "source": [
    "def get_my_chosun_name(family_name, month, day): \n",
    "    first_name = first_name_list[month - 1]\n",
    "    second_name = second_name_list[day - 1]\n",
    "    \n",
    "    full_name = family_name + first_name + second_name\n",
    "    \n",
    "    return full_name"
   ]
  },
  {
   "cell_type": "code",
   "execution_count": 10,
   "id": "b57fa079",
   "metadata": {},
   "outputs": [
    {
     "name": "stdout",
     "output_type": "stream",
     "text": [
      "가족 이름을 입력하세요: dl\n",
      "태어난 달을 입력하세요: 10\n",
      "태어난 날짜를 입력하세요: 22\n",
      "당신의 조선시대 이름은 dl갑순 입니다.\n"
     ]
    }
   ],
   "source": [
    "# 사용자 입력을 받아 나의 조선시대 이름 출력\n",
    "family_name = input(\"가족 이름을 입력하세요: \")\n",
    "month = int(input(\"태어난 달을 입력하세요: \"))\n",
    "day = int(input(\"태어난 날짜를 입력하세요: \"))\n",
    "chosun_name = get_my_chosun_name(family_name, month, day)\n",
    "print(\"당신의 조선시대 이름은\", chosun_name, \"입니다.\")"
   ]
  },
  {
   "cell_type": "code",
   "execution_count": null,
   "id": "f39675ed",
   "metadata": {},
   "outputs": [],
   "source": []
  }
 ],
 "metadata": {
  "kernelspec": {
   "display_name": "Python 3 (ipykernel)",
   "language": "python",
   "name": "python3"
  },
  "language_info": {
   "codemirror_mode": {
    "name": "ipython",
    "version": 3
   },
   "file_extension": ".py",
   "mimetype": "text/x-python",
   "name": "python",
   "nbconvert_exporter": "python",
   "pygments_lexer": "ipython3",
   "version": "3.11.4"
  }
 },
 "nbformat": 4,
 "nbformat_minor": 5
}
