{
 "cells": [
  {
   "cell_type": "code",
   "execution_count": 17,
   "id": "3814d7cf",
   "metadata": {},
   "outputs": [
    {
     "name": "stdout",
     "output_type": "stream",
     "text": [
      "Requirement already satisfied: numpy in c:\\users\\ibk\\anaconda3\\lib\\site-packages (1.24.3)\n"
     ]
    }
   ],
   "source": [
    "# Python 패키지 설치 명령어\n",
    "!pip install numpy"
   ]
  },
  {
   "cell_type": "code",
   "execution_count": 18,
   "id": "353ff578",
   "metadata": {},
   "outputs": [],
   "source": [
    "# NumPy 불러오기\n",
    "import numpy as np"
   ]
  },
  {
   "cell_type": "code",
   "execution_count": 19,
   "id": "87c647ab",
   "metadata": {},
   "outputs": [],
   "source": [
    "subjects = [\"physics\",\"calculus\",\"poetry\",\"history\"]"
   ]
  },
  {
   "cell_type": "code",
   "execution_count": 20,
   "id": "e519f0c8",
   "metadata": {},
   "outputs": [],
   "source": [
    "grades = [98,97,85,88]"
   ]
  },
  {
   "cell_type": "code",
   "execution_count": 21,
   "id": "6aeff47c",
   "metadata": {},
   "outputs": [
    {
     "name": "stdout",
     "output_type": "stream",
     "text": [
      "[['physics', 98], ['calculus', 97], ['poetry', 85], ['history', 88]]\n"
     ]
    }
   ],
   "source": [
    "gradebook=[[\"physics\",98],[\"calculus\",97],[\"poetry\",85],[\"history\",88]]\n",
    "print(gradebook)"
   ]
  },
  {
   "cell_type": "code",
   "execution_count": 22,
   "id": "a3471dd4",
   "metadata": {},
   "outputs": [
    {
     "name": "stdout",
     "output_type": "stream",
     "text": [
      "[['physics', 98], ['calculus', 97], ['poetry', 85], ['history', 88], ['computer science', 100], ['visual arts', 93]]\n"
     ]
    }
   ],
   "source": [
    "gradebook.append([\"computer science\",100])\n",
    "gradebook.append([\"visual arts\",93])\n",
    "\n",
    "print(gradebook)"
   ]
  },
  {
   "cell_type": "code",
   "execution_count": 23,
   "id": "23bb6cf3",
   "metadata": {},
   "outputs": [
    {
     "name": "stdout",
     "output_type": "stream",
     "text": [
      "[['physics', 98], ['calculus', 97], ['poetry', 'Pass'], ['history', 88], ['computer science', 100], ['visual arts', 98]]\n"
     ]
    }
   ],
   "source": [
    "gradebook[5][1] +=5\n",
    "gradebook[2].remove(85)\n",
    "gradebook[2].append(\"Pass\")\n",
    "print(gradebook)"
   ]
  },
  {
   "cell_type": "code",
   "execution_count": 26,
   "id": "039471ee",
   "metadata": {},
   "outputs": [],
   "source": [
    "last_semester_gradebook=[[\"politics\",80],[\"latin\",96],[\"dance\",97],[\"architecture\",68]]\n",
    "full_gradebook = last_semester_gradebook+gradebook"
   ]
  },
  {
   "cell_type": "code",
   "execution_count": 27,
   "id": "55da3462",
   "metadata": {},
   "outputs": [
    {
     "name": "stdout",
     "output_type": "stream",
     "text": [
      "[['politics', 80], ['latin', 96], ['dance', 97], ['architecture', 68], ['physics', 98], ['calculus', 97], ['poetry', 'Pass'], ['history', 88], ['computer science', 100], ['visual arts', 98]]\n"
     ]
    }
   ],
   "source": [
    "print(full_gradebook)"
   ]
  },
  {
   "cell_type": "code",
   "execution_count": null,
   "id": "7cdf33e3",
   "metadata": {},
   "outputs": [],
   "source": []
  }
 ],
 "metadata": {
  "kernelspec": {
   "display_name": "Python 3 (ipykernel)",
   "language": "python",
   "name": "python3"
  },
  "language_info": {
   "codemirror_mode": {
    "name": "ipython",
    "version": 3
   },
   "file_extension": ".py",
   "mimetype": "text/x-python",
   "name": "python",
   "nbconvert_exporter": "python",
   "pygments_lexer": "ipython3",
   "version": "3.11.4"
  }
 },
 "nbformat": 4,
 "nbformat_minor": 5
}
